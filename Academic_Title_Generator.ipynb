{
  "nbformat": 4,
  "nbformat_minor": 0,
  "metadata": {
    "colab": {
      "provenance": [],
      "collapsed_sections": []
    },
    "kernelspec": {
      "display_name": "Python 3",
      "name": "python3"
    },
    "language_info": {
      "name": "python"
    },
    "accelerator": "GPU",
    "widgets": {
      "application/vnd.jupyter.widget-state+json": {
        "0581cd8e6305482897f2ea8c6f17fd30": {
          "model_module": "@jupyter-widgets/controls",
          "model_name": "HBoxModel",
          "model_module_version": "1.5.0",
          "state": {
            "_dom_classes": [],
            "_model_module": "@jupyter-widgets/controls",
            "_model_module_version": "1.5.0",
            "_model_name": "HBoxModel",
            "_view_count": null,
            "_view_module": "@jupyter-widgets/controls",
            "_view_module_version": "1.5.0",
            "_view_name": "HBoxView",
            "box_style": "",
            "children": [
              "IPY_MODEL_fa900757b73e49c19c1f174d1a03ea4d",
              "IPY_MODEL_36e7179f8c2d4b54b361fa192406e01c",
              "IPY_MODEL_bba959c5a24144cd92a852255fb5c91c"
            ],
            "layout": "IPY_MODEL_21d42b8a67a246e89cc465d510a3cbab"
          }
        },
        "fa900757b73e49c19c1f174d1a03ea4d": {
          "model_module": "@jupyter-widgets/controls",
          "model_name": "HTMLModel",
          "model_module_version": "1.5.0",
          "state": {
            "_dom_classes": [],
            "_model_module": "@jupyter-widgets/controls",
            "_model_module_version": "1.5.0",
            "_model_name": "HTMLModel",
            "_view_count": null,
            "_view_module": "@jupyter-widgets/controls",
            "_view_module_version": "1.5.0",
            "_view_name": "HTMLView",
            "description": "",
            "description_tooltip": null,
            "layout": "IPY_MODEL_77accf1a3ef74681a44dc3dd48246bd5",
            "placeholder": "​",
            "style": "IPY_MODEL_7363660d8b6448fdad0f4024d230512e",
            "value": "Downloading: 100%"
          }
        },
        "36e7179f8c2d4b54b361fa192406e01c": {
          "model_module": "@jupyter-widgets/controls",
          "model_name": "FloatProgressModel",
          "model_module_version": "1.5.0",
          "state": {
            "_dom_classes": [],
            "_model_module": "@jupyter-widgets/controls",
            "_model_module_version": "1.5.0",
            "_model_name": "FloatProgressModel",
            "_view_count": null,
            "_view_module": "@jupyter-widgets/controls",
            "_view_module_version": "1.5.0",
            "_view_name": "ProgressView",
            "bar_style": "success",
            "description": "",
            "description_tooltip": null,
            "layout": "IPY_MODEL_9d2c48502b044be4aa201ba4dc9123db",
            "max": 791656,
            "min": 0,
            "orientation": "horizontal",
            "style": "IPY_MODEL_89e55e69ca5d4b02a96cf18e0ec1a797",
            "value": 791656
          }
        },
        "bba959c5a24144cd92a852255fb5c91c": {
          "model_module": "@jupyter-widgets/controls",
          "model_name": "HTMLModel",
          "model_module_version": "1.5.0",
          "state": {
            "_dom_classes": [],
            "_model_module": "@jupyter-widgets/controls",
            "_model_module_version": "1.5.0",
            "_model_name": "HTMLModel",
            "_view_count": null,
            "_view_module": "@jupyter-widgets/controls",
            "_view_module_version": "1.5.0",
            "_view_name": "HTMLView",
            "description": "",
            "description_tooltip": null,
            "layout": "IPY_MODEL_64dc349e367643288dfd54f9a765650f",
            "placeholder": "​",
            "style": "IPY_MODEL_586e413979734f98a58281caf00756b2",
            "value": " 773k/773k [00:00&lt;00:00, 611kB/s]"
          }
        },
        "21d42b8a67a246e89cc465d510a3cbab": {
          "model_module": "@jupyter-widgets/base",
          "model_name": "LayoutModel",
          "model_module_version": "1.2.0",
          "state": {
            "_model_module": "@jupyter-widgets/base",
            "_model_module_version": "1.2.0",
            "_model_name": "LayoutModel",
            "_view_count": null,
            "_view_module": "@jupyter-widgets/base",
            "_view_module_version": "1.2.0",
            "_view_name": "LayoutView",
            "align_content": null,
            "align_items": null,
            "align_self": null,
            "border": null,
            "bottom": null,
            "display": null,
            "flex": null,
            "flex_flow": null,
            "grid_area": null,
            "grid_auto_columns": null,
            "grid_auto_flow": null,
            "grid_auto_rows": null,
            "grid_column": null,
            "grid_gap": null,
            "grid_row": null,
            "grid_template_areas": null,
            "grid_template_columns": null,
            "grid_template_rows": null,
            "height": null,
            "justify_content": null,
            "justify_items": null,
            "left": null,
            "margin": null,
            "max_height": null,
            "max_width": null,
            "min_height": null,
            "min_width": null,
            "object_fit": null,
            "object_position": null,
            "order": null,
            "overflow": null,
            "overflow_x": null,
            "overflow_y": null,
            "padding": null,
            "right": null,
            "top": null,
            "visibility": null,
            "width": null
          }
        },
        "77accf1a3ef74681a44dc3dd48246bd5": {
          "model_module": "@jupyter-widgets/base",
          "model_name": "LayoutModel",
          "model_module_version": "1.2.0",
          "state": {
            "_model_module": "@jupyter-widgets/base",
            "_model_module_version": "1.2.0",
            "_model_name": "LayoutModel",
            "_view_count": null,
            "_view_module": "@jupyter-widgets/base",
            "_view_module_version": "1.2.0",
            "_view_name": "LayoutView",
            "align_content": null,
            "align_items": null,
            "align_self": null,
            "border": null,
            "bottom": null,
            "display": null,
            "flex": null,
            "flex_flow": null,
            "grid_area": null,
            "grid_auto_columns": null,
            "grid_auto_flow": null,
            "grid_auto_rows": null,
            "grid_column": null,
            "grid_gap": null,
            "grid_row": null,
            "grid_template_areas": null,
            "grid_template_columns": null,
            "grid_template_rows": null,
            "height": null,
            "justify_content": null,
            "justify_items": null,
            "left": null,
            "margin": null,
            "max_height": null,
            "max_width": null,
            "min_height": null,
            "min_width": null,
            "object_fit": null,
            "object_position": null,
            "order": null,
            "overflow": null,
            "overflow_x": null,
            "overflow_y": null,
            "padding": null,
            "right": null,
            "top": null,
            "visibility": null,
            "width": null
          }
        },
        "7363660d8b6448fdad0f4024d230512e": {
          "model_module": "@jupyter-widgets/controls",
          "model_name": "DescriptionStyleModel",
          "model_module_version": "1.5.0",
          "state": {
            "_model_module": "@jupyter-widgets/controls",
            "_model_module_version": "1.5.0",
            "_model_name": "DescriptionStyleModel",
            "_view_count": null,
            "_view_module": "@jupyter-widgets/base",
            "_view_module_version": "1.2.0",
            "_view_name": "StyleView",
            "description_width": ""
          }
        },
        "9d2c48502b044be4aa201ba4dc9123db": {
          "model_module": "@jupyter-widgets/base",
          "model_name": "LayoutModel",
          "model_module_version": "1.2.0",
          "state": {
            "_model_module": "@jupyter-widgets/base",
            "_model_module_version": "1.2.0",
            "_model_name": "LayoutModel",
            "_view_count": null,
            "_view_module": "@jupyter-widgets/base",
            "_view_module_version": "1.2.0",
            "_view_name": "LayoutView",
            "align_content": null,
            "align_items": null,
            "align_self": null,
            "border": null,
            "bottom": null,
            "display": null,
            "flex": null,
            "flex_flow": null,
            "grid_area": null,
            "grid_auto_columns": null,
            "grid_auto_flow": null,
            "grid_auto_rows": null,
            "grid_column": null,
            "grid_gap": null,
            "grid_row": null,
            "grid_template_areas": null,
            "grid_template_columns": null,
            "grid_template_rows": null,
            "height": null,
            "justify_content": null,
            "justify_items": null,
            "left": null,
            "margin": null,
            "max_height": null,
            "max_width": null,
            "min_height": null,
            "min_width": null,
            "object_fit": null,
            "object_position": null,
            "order": null,
            "overflow": null,
            "overflow_x": null,
            "overflow_y": null,
            "padding": null,
            "right": null,
            "top": null,
            "visibility": null,
            "width": null
          }
        },
        "89e55e69ca5d4b02a96cf18e0ec1a797": {
          "model_module": "@jupyter-widgets/controls",
          "model_name": "ProgressStyleModel",
          "model_module_version": "1.5.0",
          "state": {
            "_model_module": "@jupyter-widgets/controls",
            "_model_module_version": "1.5.0",
            "_model_name": "ProgressStyleModel",
            "_view_count": null,
            "_view_module": "@jupyter-widgets/base",
            "_view_module_version": "1.2.0",
            "_view_name": "StyleView",
            "bar_color": null,
            "description_width": ""
          }
        },
        "64dc349e367643288dfd54f9a765650f": {
          "model_module": "@jupyter-widgets/base",
          "model_name": "LayoutModel",
          "model_module_version": "1.2.0",
          "state": {
            "_model_module": "@jupyter-widgets/base",
            "_model_module_version": "1.2.0",
            "_model_name": "LayoutModel",
            "_view_count": null,
            "_view_module": "@jupyter-widgets/base",
            "_view_module_version": "1.2.0",
            "_view_name": "LayoutView",
            "align_content": null,
            "align_items": null,
            "align_self": null,
            "border": null,
            "bottom": null,
            "display": null,
            "flex": null,
            "flex_flow": null,
            "grid_area": null,
            "grid_auto_columns": null,
            "grid_auto_flow": null,
            "grid_auto_rows": null,
            "grid_column": null,
            "grid_gap": null,
            "grid_row": null,
            "grid_template_areas": null,
            "grid_template_columns": null,
            "grid_template_rows": null,
            "height": null,
            "justify_content": null,
            "justify_items": null,
            "left": null,
            "margin": null,
            "max_height": null,
            "max_width": null,
            "min_height": null,
            "min_width": null,
            "object_fit": null,
            "object_position": null,
            "order": null,
            "overflow": null,
            "overflow_x": null,
            "overflow_y": null,
            "padding": null,
            "right": null,
            "top": null,
            "visibility": null,
            "width": null
          }
        },
        "586e413979734f98a58281caf00756b2": {
          "model_module": "@jupyter-widgets/controls",
          "model_name": "DescriptionStyleModel",
          "model_module_version": "1.5.0",
          "state": {
            "_model_module": "@jupyter-widgets/controls",
            "_model_module_version": "1.5.0",
            "_model_name": "DescriptionStyleModel",
            "_view_count": null,
            "_view_module": "@jupyter-widgets/base",
            "_view_module_version": "1.2.0",
            "_view_name": "StyleView",
            "description_width": ""
          }
        },
        "5a05b7d1060a464d9f771d03d8dd2b04": {
          "model_module": "@jupyter-widgets/controls",
          "model_name": "HBoxModel",
          "model_module_version": "1.5.0",
          "state": {
            "_dom_classes": [],
            "_model_module": "@jupyter-widgets/controls",
            "_model_module_version": "1.5.0",
            "_model_name": "HBoxModel",
            "_view_count": null,
            "_view_module": "@jupyter-widgets/controls",
            "_view_module_version": "1.5.0",
            "_view_name": "HBoxView",
            "box_style": "",
            "children": [
              "IPY_MODEL_d106036d6672416191107db95516999d",
              "IPY_MODEL_6c51b7ca3451499e93e33be3b1f4e0e0",
              "IPY_MODEL_32b8aa0a911a40c3ac0fc5fba93f2788"
            ],
            "layout": "IPY_MODEL_f4f25ff1c21e456293ead87953833c35"
          }
        },
        "d106036d6672416191107db95516999d": {
          "model_module": "@jupyter-widgets/controls",
          "model_name": "HTMLModel",
          "model_module_version": "1.5.0",
          "state": {
            "_dom_classes": [],
            "_model_module": "@jupyter-widgets/controls",
            "_model_module_version": "1.5.0",
            "_model_name": "HTMLModel",
            "_view_count": null,
            "_view_module": "@jupyter-widgets/controls",
            "_view_module_version": "1.5.0",
            "_view_name": "HTMLView",
            "description": "",
            "description_tooltip": null,
            "layout": "IPY_MODEL_46b644d98c3840d2912bd9fa44a64d6c",
            "placeholder": "​",
            "style": "IPY_MODEL_938dd282305a46f9803a7223fd5f354f",
            "value": "Downloading: 100%"
          }
        },
        "6c51b7ca3451499e93e33be3b1f4e0e0": {
          "model_module": "@jupyter-widgets/controls",
          "model_name": "FloatProgressModel",
          "model_module_version": "1.5.0",
          "state": {
            "_dom_classes": [],
            "_model_module": "@jupyter-widgets/controls",
            "_model_module_version": "1.5.0",
            "_model_name": "FloatProgressModel",
            "_view_count": null,
            "_view_module": "@jupyter-widgets/controls",
            "_view_module_version": "1.5.0",
            "_view_name": "ProgressView",
            "bar_style": "success",
            "description": "",
            "description_tooltip": null,
            "layout": "IPY_MODEL_176a8c770fe04cdbb92b3bf90aefdf2e",
            "max": 1199,
            "min": 0,
            "orientation": "horizontal",
            "style": "IPY_MODEL_593e05ad67a74ba5a3d8ced6fff3d3d6",
            "value": 1199
          }
        },
        "32b8aa0a911a40c3ac0fc5fba93f2788": {
          "model_module": "@jupyter-widgets/controls",
          "model_name": "HTMLModel",
          "model_module_version": "1.5.0",
          "state": {
            "_dom_classes": [],
            "_model_module": "@jupyter-widgets/controls",
            "_model_module_version": "1.5.0",
            "_model_name": "HTMLModel",
            "_view_count": null,
            "_view_module": "@jupyter-widgets/controls",
            "_view_module_version": "1.5.0",
            "_view_name": "HTMLView",
            "description": "",
            "description_tooltip": null,
            "layout": "IPY_MODEL_9efb683f88f041a8a35e33e73458ef73",
            "placeholder": "​",
            "style": "IPY_MODEL_611b61df7ec24cc2accb620b93a0e288",
            "value": " 1.17k/1.17k [00:00&lt;00:00, 33.9kB/s]"
          }
        },
        "f4f25ff1c21e456293ead87953833c35": {
          "model_module": "@jupyter-widgets/base",
          "model_name": "LayoutModel",
          "model_module_version": "1.2.0",
          "state": {
            "_model_module": "@jupyter-widgets/base",
            "_model_module_version": "1.2.0",
            "_model_name": "LayoutModel",
            "_view_count": null,
            "_view_module": "@jupyter-widgets/base",
            "_view_module_version": "1.2.0",
            "_view_name": "LayoutView",
            "align_content": null,
            "align_items": null,
            "align_self": null,
            "border": null,
            "bottom": null,
            "display": null,
            "flex": null,
            "flex_flow": null,
            "grid_area": null,
            "grid_auto_columns": null,
            "grid_auto_flow": null,
            "grid_auto_rows": null,
            "grid_column": null,
            "grid_gap": null,
            "grid_row": null,
            "grid_template_areas": null,
            "grid_template_columns": null,
            "grid_template_rows": null,
            "height": null,
            "justify_content": null,
            "justify_items": null,
            "left": null,
            "margin": null,
            "max_height": null,
            "max_width": null,
            "min_height": null,
            "min_width": null,
            "object_fit": null,
            "object_position": null,
            "order": null,
            "overflow": null,
            "overflow_x": null,
            "overflow_y": null,
            "padding": null,
            "right": null,
            "top": null,
            "visibility": null,
            "width": null
          }
        },
        "46b644d98c3840d2912bd9fa44a64d6c": {
          "model_module": "@jupyter-widgets/base",
          "model_name": "LayoutModel",
          "model_module_version": "1.2.0",
          "state": {
            "_model_module": "@jupyter-widgets/base",
            "_model_module_version": "1.2.0",
            "_model_name": "LayoutModel",
            "_view_count": null,
            "_view_module": "@jupyter-widgets/base",
            "_view_module_version": "1.2.0",
            "_view_name": "LayoutView",
            "align_content": null,
            "align_items": null,
            "align_self": null,
            "border": null,
            "bottom": null,
            "display": null,
            "flex": null,
            "flex_flow": null,
            "grid_area": null,
            "grid_auto_columns": null,
            "grid_auto_flow": null,
            "grid_auto_rows": null,
            "grid_column": null,
            "grid_gap": null,
            "grid_row": null,
            "grid_template_areas": null,
            "grid_template_columns": null,
            "grid_template_rows": null,
            "height": null,
            "justify_content": null,
            "justify_items": null,
            "left": null,
            "margin": null,
            "max_height": null,
            "max_width": null,
            "min_height": null,
            "min_width": null,
            "object_fit": null,
            "object_position": null,
            "order": null,
            "overflow": null,
            "overflow_x": null,
            "overflow_y": null,
            "padding": null,
            "right": null,
            "top": null,
            "visibility": null,
            "width": null
          }
        },
        "938dd282305a46f9803a7223fd5f354f": {
          "model_module": "@jupyter-widgets/controls",
          "model_name": "DescriptionStyleModel",
          "model_module_version": "1.5.0",
          "state": {
            "_model_module": "@jupyter-widgets/controls",
            "_model_module_version": "1.5.0",
            "_model_name": "DescriptionStyleModel",
            "_view_count": null,
            "_view_module": "@jupyter-widgets/base",
            "_view_module_version": "1.2.0",
            "_view_name": "StyleView",
            "description_width": ""
          }
        },
        "176a8c770fe04cdbb92b3bf90aefdf2e": {
          "model_module": "@jupyter-widgets/base",
          "model_name": "LayoutModel",
          "model_module_version": "1.2.0",
          "state": {
            "_model_module": "@jupyter-widgets/base",
            "_model_module_version": "1.2.0",
            "_model_name": "LayoutModel",
            "_view_count": null,
            "_view_module": "@jupyter-widgets/base",
            "_view_module_version": "1.2.0",
            "_view_name": "LayoutView",
            "align_content": null,
            "align_items": null,
            "align_self": null,
            "border": null,
            "bottom": null,
            "display": null,
            "flex": null,
            "flex_flow": null,
            "grid_area": null,
            "grid_auto_columns": null,
            "grid_auto_flow": null,
            "grid_auto_rows": null,
            "grid_column": null,
            "grid_gap": null,
            "grid_row": null,
            "grid_template_areas": null,
            "grid_template_columns": null,
            "grid_template_rows": null,
            "height": null,
            "justify_content": null,
            "justify_items": null,
            "left": null,
            "margin": null,
            "max_height": null,
            "max_width": null,
            "min_height": null,
            "min_width": null,
            "object_fit": null,
            "object_position": null,
            "order": null,
            "overflow": null,
            "overflow_x": null,
            "overflow_y": null,
            "padding": null,
            "right": null,
            "top": null,
            "visibility": null,
            "width": null
          }
        },
        "593e05ad67a74ba5a3d8ced6fff3d3d6": {
          "model_module": "@jupyter-widgets/controls",
          "model_name": "ProgressStyleModel",
          "model_module_version": "1.5.0",
          "state": {
            "_model_module": "@jupyter-widgets/controls",
            "_model_module_version": "1.5.0",
            "_model_name": "ProgressStyleModel",
            "_view_count": null,
            "_view_module": "@jupyter-widgets/base",
            "_view_module_version": "1.2.0",
            "_view_name": "StyleView",
            "bar_color": null,
            "description_width": ""
          }
        },
        "9efb683f88f041a8a35e33e73458ef73": {
          "model_module": "@jupyter-widgets/base",
          "model_name": "LayoutModel",
          "model_module_version": "1.2.0",
          "state": {
            "_model_module": "@jupyter-widgets/base",
            "_model_module_version": "1.2.0",
            "_model_name": "LayoutModel",
            "_view_count": null,
            "_view_module": "@jupyter-widgets/base",
            "_view_module_version": "1.2.0",
            "_view_name": "LayoutView",
            "align_content": null,
            "align_items": null,
            "align_self": null,
            "border": null,
            "bottom": null,
            "display": null,
            "flex": null,
            "flex_flow": null,
            "grid_area": null,
            "grid_auto_columns": null,
            "grid_auto_flow": null,
            "grid_auto_rows": null,
            "grid_column": null,
            "grid_gap": null,
            "grid_row": null,
            "grid_template_areas": null,
            "grid_template_columns": null,
            "grid_template_rows": null,
            "height": null,
            "justify_content": null,
            "justify_items": null,
            "left": null,
            "margin": null,
            "max_height": null,
            "max_width": null,
            "min_height": null,
            "min_width": null,
            "object_fit": null,
            "object_position": null,
            "order": null,
            "overflow": null,
            "overflow_x": null,
            "overflow_y": null,
            "padding": null,
            "right": null,
            "top": null,
            "visibility": null,
            "width": null
          }
        },
        "611b61df7ec24cc2accb620b93a0e288": {
          "model_module": "@jupyter-widgets/controls",
          "model_name": "DescriptionStyleModel",
          "model_module_version": "1.5.0",
          "state": {
            "_model_module": "@jupyter-widgets/controls",
            "_model_module_version": "1.5.0",
            "_model_name": "DescriptionStyleModel",
            "_view_count": null,
            "_view_module": "@jupyter-widgets/base",
            "_view_module_version": "1.2.0",
            "_view_name": "StyleView",
            "description_width": ""
          }
        }
      }
    }
  },
  "cells": [
    {
      "cell_type": "markdown",
      "metadata": {
        "id": "WEzhcMMoXTEv"
      },
      "source": [
        "# **Academic Title Generator**\n",
        "\n",
        "## Generate believable academic titles from a paper abstract.\n",
        "\n",
        "This code allows you to input academic abstracts in order to generate academic paper or poster titles.\n",
        "\n",
        "\n"
      ]
    },
    {
      "cell_type": "markdown",
      "metadata": {
        "id": "3Q9_JaFmC7jj"
      },
      "source": [
        "# Install Transformers Library and the Tokenization Library\n",
        "\n",
        "**Abstractive text summarization- T5 Keras**\n",
        "\n",
        "Install the pre-trained transformer from the Keras library as well as the tokenizaton library in the pre-trained model to fine-tune that model."
      ]
    },
    {
      "cell_type": "markdown",
      "metadata": {
        "id": "OTiyEYZQDJW7"
      },
      "source": [
        "Hugging face T5 pretrained model"
      ]
    },
    {
      "cell_type": "code",
      "metadata": {
        "id": "OkOBaQajDK9K",
        "colab": {
          "base_uri": "https://localhost:8080/"
        },
        "outputId": "cb17ea6e-6ef7-4af2-ebe7-7e38567ba8bf"
      },
      "source": [
        "!pip install transformers --quiet\n",
        "!pip install sentencepiece --quiet\n",
        "import tensorflow as tf\n",
        "import numpy as np\n",
        "import re\n",
        "import string\n",
        "import pandas as pd\n",
        "import tensorflow_datasets as tfds\n",
        "from transformers import T5Tokenizer,T5ForConditionalGeneration"
      ],
      "execution_count": null,
      "outputs": [
        {
          "output_type": "stream",
          "name": "stdout",
          "text": [
            "\u001b[K     |████████████████████████████████| 4.4 MB 4.8 MB/s \n",
            "\u001b[K     |████████████████████████████████| 596 kB 65.3 MB/s \n",
            "\u001b[K     |████████████████████████████████| 101 kB 13.4 MB/s \n",
            "\u001b[K     |████████████████████████████████| 6.6 MB 68.6 MB/s \n",
            "\u001b[K     |████████████████████████████████| 1.2 MB 15.1 MB/s \n",
            "\u001b[?25h"
          ]
        }
      ]
    },
    {
      "cell_type": "markdown",
      "source": [
        "# Download the Pretrained Model "
      ],
      "metadata": {
        "id": "vpuIN0YYMg9f"
      }
    },
    {
      "cell_type": "code",
      "source": [
        "!curl -L -o 'title_generation_model_5epochs.zip' 'https://drive.google.com/u/0/uc?id=1lxwBfFbzUYyDCGEEWqGwQbA5D60pob5M&export=download&confirm=t'"
      ],
      "metadata": {
        "id": "ay9ajZX-NHPE",
        "colab": {
          "base_uri": "https://localhost:8080/"
        },
        "outputId": "7fff3ad5-7740-4d5e-bdd4-4a46da800688"
      },
      "execution_count": null,
      "outputs": [
        {
          "output_type": "stream",
          "name": "stdout",
          "text": [
            "  % Total    % Received % Xferd  Average Speed   Time    Time     Time  Current\n",
            "                                 Dload  Upload   Total   Spent    Left  Speed\n",
            "  0     0    0     0    0     0      0      0 --:--:-- --:--:-- --:--:--     0\n",
            "  0     0    0     0    0     0      0      0 --:--:-- --:--:-- --:--:--     0\n",
            "100  786M  100  786M    0     0  95.8M      0  0:00:08  0:00:08 --:--:--  120M\n"
          ]
        }
      ]
    },
    {
      "cell_type": "markdown",
      "source": [
        "# Unzip Pretrained Model into Colab Drive"
      ],
      "metadata": {
        "id": "lrAPVst4KSVA"
      }
    },
    {
      "cell_type": "code",
      "source": [
        "!unzip \"title_generation_model_5epochs.zip\""
      ],
      "metadata": {
        "id": "0a6FOtafKOcJ",
        "colab": {
          "base_uri": "https://localhost:8080/"
        },
        "outputId": "fab434f0-b533-4104-f806-17cb83391800"
      },
      "execution_count": null,
      "outputs": [
        {
          "output_type": "stream",
          "name": "stdout",
          "text": [
            "Archive:  title_generation_model_5epochs.zip\n",
            "   creating: title_generation_model/\n",
            "  inflating: title_generation_model/config.json  \n",
            "  inflating: title_generation_model/pytorch_model.bin  \n"
          ]
        }
      ]
    },
    {
      "cell_type": "markdown",
      "metadata": {
        "id": "drMcOYvY0NTW"
      },
      "source": [
        "#Load the Tokenizer\n",
        "**T5 Tokenizer and Config**\n",
        "\n",
        "The tokenizer breaks text down into represenations called tokens that allow the encoder to effectively represent the text in a semantic and structural manner."
      ]
    },
    {
      "cell_type": "code",
      "metadata": {
        "id": "2MfXgOLU0Qhs",
        "colab": {
          "base_uri": "https://localhost:8080/",
          "height": 205,
          "referenced_widgets": [
            "0581cd8e6305482897f2ea8c6f17fd30",
            "fa900757b73e49c19c1f174d1a03ea4d",
            "36e7179f8c2d4b54b361fa192406e01c",
            "bba959c5a24144cd92a852255fb5c91c",
            "21d42b8a67a246e89cc465d510a3cbab",
            "77accf1a3ef74681a44dc3dd48246bd5",
            "7363660d8b6448fdad0f4024d230512e",
            "9d2c48502b044be4aa201ba4dc9123db",
            "89e55e69ca5d4b02a96cf18e0ec1a797",
            "64dc349e367643288dfd54f9a765650f",
            "586e413979734f98a58281caf00756b2",
            "5a05b7d1060a464d9f771d03d8dd2b04",
            "d106036d6672416191107db95516999d",
            "6c51b7ca3451499e93e33be3b1f4e0e0",
            "32b8aa0a911a40c3ac0fc5fba93f2788",
            "f4f25ff1c21e456293ead87953833c35",
            "46b644d98c3840d2912bd9fa44a64d6c",
            "938dd282305a46f9803a7223fd5f354f",
            "176a8c770fe04cdbb92b3bf90aefdf2e",
            "593e05ad67a74ba5a3d8ced6fff3d3d6",
            "9efb683f88f041a8a35e33e73458ef73",
            "611b61df7ec24cc2accb620b93a0e288"
          ]
        },
        "outputId": "0e584caa-5406-4dcf-f2ba-1134986eea1a"
      },
      "source": [
        "# Bert Tokenizer (leverages SentencePiece and Unicode Normalizaiton)\n",
        "tokenizer = T5Tokenizer.from_pretrained('t5-base')"
      ],
      "execution_count": null,
      "outputs": [
        {
          "output_type": "display_data",
          "data": {
            "text/plain": [
              "Downloading:   0%|          | 0.00/773k [00:00<?, ?B/s]"
            ],
            "application/vnd.jupyter.widget-view+json": {
              "version_major": 2,
              "version_minor": 0,
              "model_id": "0581cd8e6305482897f2ea8c6f17fd30"
            }
          },
          "metadata": {}
        },
        {
          "output_type": "display_data",
          "data": {
            "text/plain": [
              "Downloading:   0%|          | 0.00/1.17k [00:00<?, ?B/s]"
            ],
            "application/vnd.jupyter.widget-view+json": {
              "version_major": 2,
              "version_minor": 0,
              "model_id": "5a05b7d1060a464d9f771d03d8dd2b04"
            }
          },
          "metadata": {}
        },
        {
          "output_type": "stream",
          "name": "stderr",
          "text": [
            "/usr/local/lib/python3.7/dist-packages/transformers/models/t5/tokenization_t5.py:174: FutureWarning: This tokenizer was incorrectly instantiated with a model max length of 512 which will be corrected in Transformers v5.\n",
            "For now, this behavior is kept to avoid breaking backwards compatibility when padding/encoding with `truncation is True`.\n",
            "- Be aware that you SHOULD NOT rely on t5-base automatically truncating your input to 512 when padding/encoding.\n",
            "- If you want to encode/pad to sequences longer than 512 you can either instantiate this tokenizer with `model_max_length` or pass `max_length` when encoding/padding.\n",
            "- To avoid this warning, please instantiate this tokenizer with `model_max_length` set to your preferred value.\n",
            "  FutureWarning,\n"
          ]
        }
      ]
    },
    {
      "cell_type": "markdown",
      "metadata": {
        "id": "cqE4dIK8UYfY"
      },
      "source": [
        "# Import the Neural Network Libraries\n",
        "\n",
        "These enable the model to be trained on new text and encode that text in a recurrent neural network."
      ]
    },
    {
      "cell_type": "code",
      "metadata": {
        "id": "cpbfbjYnp5rs"
      },
      "source": [
        "from torch import cuda\n",
        "device = 'cuda' if cuda.is_available() else 'cpu'\n",
        "model = T5ForConditionalGeneration.from_pretrained(\"title_generation_model\")\n",
        "model = model.to(device)"
      ],
      "execution_count": null,
      "outputs": []
    },
    {
      "cell_type": "markdown",
      "metadata": {
        "id": "kZarZq-xr_Rk"
      },
      "source": [
        "# Define a Function to Get Titles from the Input Abstract Text\n",
        "**Test Model using a Beam Search Algorithm**"
      ]
    },
    {
      "cell_type": "code",
      "source": [
        "import torch\n",
        "def getSummary_greedy(text, number_examples = 10):\n",
        "  with torch.no_grad():\n",
        "    input_ids = tokenizer(\"summarize: \"+text, return_tensors=\"pt\").input_ids\n",
        "    input_ids = input_ids.to(device)\n",
        "    outputs = model.generate(input_ids,do_sample =False,min_length=3,max_length=20,repetition_penalty=1.0)\n",
        "    decodedwords = tokenizer.decode(outputs[0])\n",
        "    return decodedwords"
      ],
      "metadata": {
        "id": "hB8G__LwLu9E"
      },
      "execution_count": null,
      "outputs": []
    },
    {
      "cell_type": "code",
      "source": [
        "import torch\n",
        "def getSummary_probability(text, number_examples = 10):\n",
        "  with torch.no_grad():\n",
        "    input_ids = tokenizer(\"summarize: \"+text, return_tensors=\"pt\").input_ids\n",
        "    input_ids = input_ids.to(device)\n",
        "    outputs = model.generate(input_ids,do_sample =True,num_beams=1,min_length=3,max_length=20,repetition_penalty=1.0)\n",
        "    decodedwords = tokenizer.decode(outputs[0])\n",
        "    return decodedwords"
      ],
      "metadata": {
        "id": "wsOanp3mMXnA"
      },
      "execution_count": null,
      "outputs": []
    },
    {
      "cell_type": "code",
      "metadata": {
        "id": "gq-Agz7asB61"
      },
      "source": [
        "import torch\n",
        "def getSummary_beamsearch(text, number_examples = 10):\n",
        "  with torch.no_grad():\n",
        "    input_ids = tokenizer(\"summarize: \"+text, return_tensors=\"pt\").input_ids\n",
        "    input_ids = input_ids.to(device)\n",
        "    outputs = model.generate(input_ids,num_return_sequences = number_examples,do_sample =True,num_beams=3,min_length=3,max_length=30,repetition_penalty=1.0)\n",
        "    decodedwords = tokenizer.decode(outputs[0])\n",
        "    return decodedwords"
      ],
      "execution_count": null,
      "outputs": []
    },
    {
      "cell_type": "code",
      "metadata": {
        "id": "4qxm5NiSuINB"
      },
      "source": [
        "import warnings\n",
        "warnings.filterwarnings(\"ignore\", category=UserWarning, module='transformers')"
      ],
      "execution_count": null,
      "outputs": []
    },
    {
      "cell_type": "markdown",
      "metadata": {
        "id": "OgZXBKoMUBzv"
      },
      "source": [
        "# Test the Model on a Sample Academic Abstract"
      ]
    },
    {
      "cell_type": "code",
      "source": [
        "abstract =\"\"\"This research investigates how the perceived balance between cognition and emotion in others contributes to fear of other agents – “scary minds”.  Specifically, we explore the hypothesis that a threatening target with an unbalanced mind—asymmetric capacities for cognition (e.g., self-control and reasoning) and emotion (e.g., sensations and emotions)—is associated with greater fear of that target.  In four studies, targets with a perceived imbalance between capacities for cognition and emotion were rated as more frightening than those with relatively more matched levels of cognition and emotion.  These effects were observed using samples of scary monsters (Studies 1 & 2), scary animals (Studies 2 & 3),  and infected humans (Study 4).  We also find experimental evidence that imbalanced targets are perceived as less controllable, which mediates the effect of imbalance on fear.  These results suggest that the perceived degree of mismatch between cognition and experience predicts fear among scary targets, and highlight mind perception as an important part of the appraisal process of emotion.\"\"\""
      ],
      "metadata": {
        "id": "G8wIFSFNveNu"
      },
      "execution_count": null,
      "outputs": []
    },
    {
      "cell_type": "code",
      "source": [
        "getSummary_greedy(abstract)"
      ],
      "metadata": {
        "id": "dQWuEN23woWQ",
        "colab": {
          "base_uri": "https://localhost:8080/",
          "height": 35
        },
        "outputId": "a6f6f2bd-d376-4878-f226-51144fd37dc3"
      },
      "execution_count": null,
      "outputs": [
        {
          "output_type": "execute_result",
          "data": {
            "text/plain": [
              "'<pad> Unbalanced Mind and Fear of Scary Minds: A Multilevel Investigation</s>'"
            ],
            "application/vnd.google.colaboratory.intrinsic+json": {
              "type": "string"
            }
          },
          "metadata": {},
          "execution_count": 16
        }
      ]
    },
    {
      "cell_type": "code",
      "source": [
        "getSummary_probability(abstract)"
      ],
      "metadata": {
        "id": "UHudumFzvgfU",
        "colab": {
          "base_uri": "https://localhost:8080/",
          "height": 35
        },
        "outputId": "dd197fdc-781f-412f-e6ec-a1daeb4fcdcc"
      },
      "execution_count": null,
      "outputs": [
        {
          "output_type": "execute_result",
          "data": {
            "text/plain": [
              "'<pad> Emotion and Fear of Scary Minds</s>'"
            ],
            "application/vnd.google.colaboratory.intrinsic+json": {
              "type": "string"
            }
          },
          "metadata": {},
          "execution_count": 17
        }
      ]
    },
    {
      "cell_type": "code",
      "metadata": {
        "id": "zL4FOHPcov_z",
        "colab": {
          "base_uri": "https://localhost:8080/",
          "height": 35
        },
        "outputId": "41de8940-bfb5-4d8a-c6f7-2e09b5aec017"
      },
      "source": [
        "getSummary_beamsearch(abstract)"
      ],
      "execution_count": null,
      "outputs": [
        {
          "output_type": "execute_result",
          "data": {
            "text/plain": [
              "'<pad> Unbalanced Mind and Fear of Scary Minds: The Role of Mind Perception</s> <pad> <pad> <pad> <pad> <pad> <pad> <pad>'"
            ],
            "application/vnd.google.colaboratory.intrinsic+json": {
              "type": "string"
            }
          },
          "metadata": {},
          "execution_count": 18
        }
      ]
    },
    {
      "cell_type": "markdown",
      "source": [
        "# Generate Many Titles at Once"
      ],
      "metadata": {
        "id": "s1-rKjYhOMlg"
      }
    },
    {
      "cell_type": "code",
      "source": [
        "for i in range(100):\n",
        "  generated_title = getSummary_probability(abstract)\n",
        "  print(generated_title)"
      ],
      "metadata": {
        "id": "bjutBOqBOPZW",
        "colab": {
          "base_uri": "https://localhost:8080/"
        },
        "outputId": "67ee9ffb-7e41-4112-a93c-e282159292f9"
      },
      "execution_count": null,
      "outputs": [
        {
          "output_type": "stream",
          "name": "stdout",
          "text": [
            "<pad> Unbalanced Mind and Fear among Scary Mentalities: The Mediating Role of\n",
            "<pad> Scale-Level Balance at Risk: Interactions With Scary Minds</s>\n",
            "<pad> Underbalancing Mind and Psychological Behaviors: An Involuntary Measure of Perception\n",
            "<pad> Consideration and Measurement of Scary Minds</s>\n",
            "<pad> Fear of Fear Among Scary Minds: Its Corollary to Brain Assessment</s>\n",
            "<pad> Fear at Scary Mental Targets: Using Emotional and Cognitive Context</s>\n",
            "<pad> Unbalanced Mind and Fear of Scary Minds</s>\n",
            "<pad> The Effect of Inbalancing Mind and Emotion on Physical Fear Among Scary Minds\n",
            "<pad> Negative Assessment of Scary Minds on Fear</s>\n",
            "<pad> Mismatch between Cognition and Emotions to Predict Scary Minds</s>\n",
            "<pad> Constructive Effects of Mind Balance on Scary Minds</s>\n",
            "<pad> The Debalance Between Cognitive and Emotion</s>\n",
            "<pad> Scary Minds as a Mediator of Perceived Balance</s>\n",
            "<pad> a Mind of Unbalanced Characteristics and Potential Behavioral Effects on Be\n",
            "<pad> Fear, Negative Cognition, and Emotion, among Scary Minds</s>\n",
            "<pad> Perceived Balance of Cognitive and Emotional Performance in Others and Fear</s>\n",
            "<pad> Unbalance of Cognition, Emotion, and Fear: A Multilevel Study</s>\n",
            "<pad> Unbalanced Mind and Fear of Scrabble Mind: A Two-Std\n",
            "<pad> Fear of Fear: The Effects of Empirical and Experimental Mediates on Job Performance</s>\n",
            "<pad> Empirical Investigation of the Role of Mind: A Psychological and Cognitive Lens on Risk\n",
            "<pad> Emotions Drive the Effect of Fear: Assessing the Relationship Between Cognition and\n",
            "<pad> Weigher Than Controlling Is Fear? An Experimental Investigation of Fear Among Scary\n",
            "<pad> Empirical Findings on the Mediating Role of Mind Perception to Assess Scary\n",
            "<pad> Fear of other agents’ “scary minds”: Using Cognitive and Emotional\n",
            "<pad> Lapsing the Effect of Mind Balance on Fear for Scary Targets - Monster\n",
            "<pad> Fear of Other Agents in Scary Minds</s>\n",
            "<pad> Unbalanced Minds: An Emotional Framework in Scary Minds</s>\n",
            "<pad> Perceived Unbalance of Sensitivity, Emotion, and Fear of\n",
            "<pad> Balancing of Cognition and Emotion into Scary Minds: The Role\n",
            "<pad> This Representation and Perceived Balance of Cognition and Emotion in Threat\n",
            "<pad> The Perceived Balance with Cognition and Emphasis: Psychography,\n",
            "<pad> Emphasis on Emotion and Scary Minds</s>\n",
            "<pad> Fear of scary minds: A Model of Mind Balance</s>\n",
            "<pad> Negative and Unbalanced Minds Matter</s>\n",
            "<pad> Unbalanced and Scary Minds Matter</s>\n",
            "<pad> The Perceived Balance Between Competent Minds and Fear: A Meta Examination and Trial\n",
            "<pad> This study examines the influence of “Scary Minds” on Fear in Scary\n",
            "<pad> Mismatch: The Influence of Mind and Emotion on Fear in Scary Minds</s>\n",
            "<pad> Emotional and Creativityal Balance at Work: The Mediating Role of Reality\n",
            "<pad> Perceived Mind Balance and Fear of Scary Reactions: The Mediating Ro\n",
            "<pad> Scary Mind Asymmetria and Fear Among Scary Targets</s>\n",
            "<pad> Exploratory Investigation of the Co-Emotional Conditional Effects from Other Targets\n",
            "<pad> Unbalanced Minds and Scary Mind Ratings: An Exploratory Investigation</s>\n",
            "<pad> Emotion and Fear of Scary Minds</s>\n",
            "<pad> An Experimental Investigation of Personality Perceived Emotional Balance, the Influence of\n",
            "<pad> Using Image Processing to Increase Fear and Appraisal Processes</s>\n",
            "<pad> Fear of Fear: Predicting Unbalanced and Unbalanced Brains</s>\n",
            "<pad> An Empowered Mind and Fear of Scary Minds: A Model for An Unbalancing\n",
            "<pad> The Effect of Mind Balance is on Thrilling Scary Minds</s>\n",
            "<pad> A Cohabitational Perspective of Mismatch Between Cognition and Emotion and Fear in Scar\n",
            "<pad> Motivated by a Sensitivity and Fear of Scary Minds</s>\n",
            "<pad> Unbalanced Minds in Scary Action: An Investigation into the Mechanisms of Mind\n",
            "<pad> Emotion and Fear of Fear: A Multilevel Examination of the Mechanism of Mind Balance</s>\n",
            "<pad> Attitudes and Defining Fear: The Role of Mind Perception</s>\n",
            "<pad> The Mental Balance for Attitude and Fear: Exploring the Relationships With Physical and Physical\n",
            "<pad> Escalation of Scary Minds: A Cognitive-Emotion Relative Match Perspective\n",
            "<pad> Creativity, Emotion, and Scary Minds: Perception and Action Processe\n",
            "<pad> Emphasis on Fear of Other Agents: The Role of Mind Perception</s>\n",
            "<pad> Fear of the Scary Mind</s>\n",
            "<pad> Fear of Scary Ideas: A Behavioral Analysis of Minds</s>\n",
            "<pad> Psychological Balance in Scary Minds and Sense of Emotion</s>\n",
            "<pad> Asymmetrical Capacity and Empathy as a Predictor of Fear by Scar\n",
            "<pad> It’s a Relative Measurement of Emotion</s>\n",
            "<pad> Unbalanced Mind and Fear of Scary Minds Among Scared Object\n",
            "<pad> Attitudes and Fear: Measurements of Unbalance in Scary Minds</s>\n",
            "<pad> Perceptions of the Mental Balancing Process for Scary Minds</s>\n",
            "<pad> Unbalance and Fear: Effects of Peer Perceptions Across Cognitions\n",
            "<pad> Fear of Scary Minds: A Multiple Source Examination of Reactions</s>\n",
            "<pad> Motivation Factors and Perceptions of Threatened Motives</s>\n",
            "<pad> Managing Scary Minds: A Model for Predicting Fear</s>\n",
            "<pad> Negative and insecure, Threatful and Unbalanced Minds</s>\n",
            "<pad> “Scary Mind” and Fear of scary targets: How Constructing Mind Balance on\n",
            "<pad> The Impact of Representation on Fear by Threatening People: The Role of Mind\n",
            "<pad> The Influence of Determinants of Emotion on Scary Minds</s>\n",
            "<pad> Aims of the Physical and Perceived Balance Between Cognition and Emotion\n",
            "<pad> Emotion and Fear in Scary Targets</s>\n",
            "<pad> Managing Fear: The Role of Mind Perception</s>\n",
            "<pad> Fear of Scary Minds: A Multilevel Approach</s>\n",
            "<pad> The Effects of Mind Balance on Fear of Scary Minds</s>\n",
            "<pad> The Resonance of Sensations and Emotions to Motivate Injusted\n",
            "<pad> The Constructual Effect of Mind Balance on Scary Brains</s>\n",
            "<pad> Latent Mind and Fear of Scary Minds: A Meta-Analytic Investigation\n",
            "<pad> Insecurity and Scary Mind Perception: Effects on Fear Within Scary Men: How\n",
            "<pad> Perceived Mind Balance and Rating of Scarecary Minds</s>\n",
            "<pad> Laxive Performance and Perception of Fear Among Scary Minds</s>\n",
            "<pad> Fear of Scary Minds is linked to Unbalanced Cognitive and Emotional Dynamics\n",
            "<pad> Fear of Scary Minds and Involuntary Actions</s>\n",
            "<pad> An Escalator of Scary Minds: Measure and Role Asymmetry</s>\n",
            "<pad> Considerations of Emotion in Scary Minds</s>\n",
            "<pad> Negative Effects of Mind Balance on Fear of Scary Minds: Its Role\n",
            "<pad> Sensitivity, Awareness, and Fear Among Scary Minds</s>\n",
            "<pad> A new Model of Self-Control and Emotional Outcomes on Threat–Fel\n",
            "<pad> Alignment as a Mechanism of Antisocial Outcomes on Fear</s>\n",
            "<pad> Unbalanced Mind and Scary Mind Perceptions: Relative Asymmetric or\n",
            "<pad> Unbalance in Fear Among Scary Minds: Reducing Scary People’\n",
            "<pad> Mismatch of CREEK and EFA for Scary Minds</s>\n",
            "<pad> Fear: The Perceived Balance Between Criterion and Emotion in Scary Mind\n",
            "<pad> Motivation, Emotion, Synergy and Fear: Predicting Fear In\n",
            "<pad> Unbalance of Cognitions and Emotions in Scary Minds: A Multi\n",
            "<pad> The “Scary Mind”–Balance Effect on Fear Within Scary Targets\n"
          ]
        }
      ]
    }
  ]
}